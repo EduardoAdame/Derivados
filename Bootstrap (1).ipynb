{
 "cells": [
  {
   "cell_type": "markdown",
   "metadata": {},
   "source": [
    "Bootstraping "
   ]
  },
  {
   "cell_type": "code",
   "execution_count": 1,
   "metadata": {
    "scrolled": true
   },
   "outputs": [],
   "source": [
    "import numpy as np \n",
    "import pandas as pd \n",
    "import matplotlib as mpl\n",
    "import scipy \n",
    "import matplotlib.pyplot as plt\n",
    "from math import log\n",
    "from datetime import date, datetime , time, timedelta\n",
    "import calendar\n",
    "import locale\n",
    "from pandas.tseries.offsets import BDay"
   ]
  },
  {
   "cell_type": "markdown",
   "metadata": {},
   "source": [
    "Ponemos el idioma en español para mayor facilidad"
   ]
  },
  {
   "cell_type": "code",
   "execution_count": 2,
   "metadata": {
    "scrolled": true
   },
   "outputs": [
    {
     "data": {
      "text/plain": [
       "'es_MX.UTF-8'"
      ]
     },
     "execution_count": 2,
     "metadata": {},
     "output_type": "execute_result"
    }
   ],
   "source": [
    "locale.setlocale(locale.LC_ALL, \"es_MX.UTF-8\") #Se cambia el lenguaje a español"
   ]
  },
  {
   "cell_type": "code",
   "execution_count": 3,
   "metadata": {},
   "outputs": [
    {
     "name": "stdout",
     "output_type": "stream",
     "text": [
      "     tipo    tasas\n",
      "0     O/N  0.06240\n",
      "1    TIIE  0.06240\n",
      "2     3X1  0.06655\n",
      "3     6X1  0.07180\n",
      "4     9X1  0.07660\n",
      "5    13X1  0.08170\n",
      "6    26X1  0.08640\n",
      "7    39X1  0.08685\n",
      "8    52X1  0.08610\n",
      "9    65X1  0.08565\n",
      "10   91X1  0.08565\n",
      "11  130X1  0.08570\n",
      "12  195X1  0.08810\n",
      "13  260X1  0.08970\n",
      "14  390X1  0.09065\n"
     ]
    }
   ],
   "source": [
    "t_tasas=pd.DataFrame() #Data frame de los datos como inputs\n",
    "t_tasas[\"tipo\"]= [\"O/N\",\"TIIE\", \"3X1\",\"6X1\",\"9X1\",\"13X1\",\"26X1\"\n",
    "                  ,\"39X1\",\"52X1\",\"65X1\",\"91X1\",\"130X1\",\"195X1\",\n",
    "                 \"260X1\",\"390X1\"]\n",
    "t_tasas[\"tasas\"]=[0.0624,\n",
    "0.0624,0.06655,0.0718,0.0766,0.0817,0.0864,0.08685,0.0861,0.08565,0.08565,0.0857,0.0881,0.0897,0.09065]\n",
    "print(t_tasas)\n"
   ]
  },
  {
   "cell_type": "code",
   "execution_count": 4,
   "metadata": {},
   "outputs": [],
   "source": [
    "#Días festivos en México paqueteria de Py\n",
    "import holidays \n",
    "mx_holidays = holidays.Mexico()\n"
   ]
  },
  {
   "cell_type": "code",
   "execution_count": 5,
   "metadata": {
    "scrolled": true
   },
   "outputs": [
    {
     "name": "stdout",
     "output_type": "stream",
     "text": [
      "(datetime.date(2022, 1, 1), \"Año Nuevo [New Year's Day]\")\n",
      "(datetime.date(2022, 2, 7), 'Día de la Constitución [Constitution Day] (Observed)')\n",
      "(datetime.date(2022, 2, 5), 'Día de la Constitución [Constitution Day]')\n",
      "(datetime.date(2022, 3, 21), \"Natalicio de Benito Juárez [Benito Juárez's birthday] (Observed)\")\n",
      "(datetime.date(2022, 5, 1), 'Día del Trabajo [Labour Day]')\n",
      "(datetime.date(2022, 5, 2), 'Día del Trabajo [Labour Day] (Observed)')\n",
      "(datetime.date(2022, 9, 16), 'Día de la Independencia [Independence Day]')\n",
      "(datetime.date(2022, 11, 21), 'Día de la Revolución [Revolution Day] (Observed)')\n",
      "(datetime.date(2022, 11, 20), 'Día de la Revolución [Revolution Day]')\n",
      "(datetime.date(2022, 12, 25), 'Navidad [Christmas]')\n",
      "(datetime.date(2022, 12, 26), 'Transmisión del Poder Ejecutivo Federal [Change of Federal Government] (Observed)')\n",
      "(datetime.date(2039, 1, 1), \"Año Nuevo [New Year's Day]\")\n",
      "(datetime.date(2039, 2, 7), 'Día de la Constitución [Constitution Day] (Observed)')\n",
      "(datetime.date(2039, 2, 5), 'Día de la Constitución [Constitution Day]')\n",
      "(datetime.date(2039, 3, 21), \"Natalicio de Benito Juárez [Benito Juárez's birthday] (Observed)\")\n",
      "(datetime.date(2039, 5, 1), 'Día del Trabajo [Labour Day]')\n",
      "(datetime.date(2039, 5, 2), 'Día del Trabajo [Labour Day] (Observed)')\n",
      "(datetime.date(2039, 9, 16), 'Día de la Independencia [Independence Day]')\n",
      "(datetime.date(2039, 11, 21), 'Día de la Revolución [Revolution Day] (Observed)')\n",
      "(datetime.date(2039, 11, 20), 'Día de la Revolución [Revolution Day]')\n",
      "(datetime.date(2039, 12, 25), 'Navidad [Christmas]')\n",
      "(datetime.date(2039, 12, 26), 'Transmisión del Poder Ejecutivo Federal [Change of Federal Government] (Observed)')\n"
     ]
    }
   ],
   "source": [
    "#Imprime los días festivos desde 2022 hasta 2039\n",
    "for i in holidays.Mexico(years=[2022,2039]).items():\n",
    "    print(i)\n",
    "   "
   ]
  },
  {
   "cell_type": "code",
   "execution_count": 6,
   "metadata": {
    "scrolled": true
   },
   "outputs": [],
   "source": [
    "from datetime import timedelta\n",
    "import datetime\n"
   ]
  },
  {
   "cell_type": "code",
   "execution_count": 7,
   "metadata": {},
   "outputs": [],
   "source": [
    "fraction_360 = datetime.timedelta(days= 360) #Fraccion 360"
   ]
  },
  {
   "cell_type": "code",
   "execution_count": 16,
   "metadata": {
    "scrolled": true
   },
   "outputs": [],
   "source": [
    "#Hoy (Solo importa para el programador)\n",
    "today = datetime.date.today()\n",
    "#print(dia_hoy)"
   ]
  },
  {
   "cell_type": "code",
   "execution_count": 17,
   "metadata": {},
   "outputs": [
    {
     "data": {
      "text/plain": [
       "Timestamp('2022-03-28 00:00:00')"
      ]
     },
     "execution_count": 17,
     "metadata": {},
     "output_type": "execute_result"
    }
   ],
   "source": [
    "#Dia inicio (Ayuda para el programador)\n",
    "dia_spot = today + BDay(1)\n",
    "dia_spot #Esta fecha es la que se debe introducir en el codigo siguiente\n",
    "#print(dia_spot)"
   ]
  },
  {
   "cell_type": "code",
   "execution_count": 18,
   "metadata": {},
   "outputs": [],
   "source": [
    "dia_spot=datetime.date(2022,3,28)#Se debe hacer manual y se debe pasar la fecha anterior en el formato (AAAA,M,D)"
   ]
  },
  {
   "cell_type": "code",
   "execution_count": 20,
   "metadata": {},
   "outputs": [],
   "source": [
    "tau_0 = (dia_spot-today)/fraction_360 #Tau para el P_0"
   ]
  },
  {
   "cell_type": "code",
   "execution_count": null,
   "metadata": {},
   "outputs": [],
   "source": [
    "#fixing day (Ayuda para el programador)\n",
    "#dia_fixing = dia_hoy + BDay(-1)\n",
    "#print(dia_fixing)"
   ]
  },
  {
   "cell_type": "code",
   "execution_count": 21,
   "metadata": {},
   "outputs": [],
   "source": [
    "#Pago de cupon (Cupones cada 28 días)\n",
    "dias = datetime.timedelta(days= 28) #SI ES IMPORTANTE"
   ]
  },
  {
   "cell_type": "code",
   "execution_count": null,
   "metadata": {},
   "outputs": [],
   "source": [
    "#Calcular fecha  final pago (Ayuda para el programador)\n",
    "#dia_final = dia_hoy + dias + BDay(1)\n",
    "#print(dia_final)"
   ]
  },
  {
   "cell_type": "code",
   "execution_count": null,
   "metadata": {},
   "outputs": [],
   "source": [
    "#renglon1 = [dia_spot, dia_fixing, dia_final] (Ayuda para el programador)\n",
    "#print(renglon1)"
   ]
  },
  {
   "cell_type": "code",
   "execution_count": 22,
   "metadata": {},
   "outputs": [],
   "source": [
    "#Establecemos la fecha\n",
    "s1=\"2022/03/27\" #Introduzca la fecha como cliente\n",
    "#La asignamos a la variable fecha_pago en formato fecha\n",
    "dia_hoy = datetime.datetime.strptime(s1,\"%Y/%m/%d\")"
   ]
  },
  {
   "cell_type": "code",
   "execution_count": 37,
   "metadata": {
    "scrolled": false
   },
   "outputs": [],
   "source": [
    "#Ya estan!!!!!!\n",
    "id_cupon1 = [] #Lista vacia\n",
    "dia_start1= [] #Lista vacia\n",
    "dia_fixing1 = [] #Lista vacia\n",
    "dia_final1 =[] #Lista vacia\n",
    "tau1 = [] #Lista vacia\n",
    "for i in range(1,391):\n",
    "    id_cupon = i #Auxiliar que itera la i\n",
    "    id_cupon1.append(id_cupon) #Guardamos las iteraciones\n",
    "    #Fechas cupon\n",
    "    dia_final = dia_hoy + dias + BDay(1) #al dia que ingresa el cliente le sumamos los 28 días del pago de cupon y verificamos que sea dia habil siguiente\n",
    "    dia_hoy = dia_final.strftime(\"%Y/%m/%d\") #Convertimos a string el dia que da el cliente\n",
    "    dia_hoy = datetime.datetime.strptime(dia_hoy,\"%Y/%m/%d\") - datetime.timedelta(days= 1) #restamos un dia de la fecha\n",
    "    #Fechas start\n",
    "    dia_start = dia_final - dias + BDay(1) - datetime.timedelta(days= 1) #Al dia final que le sumamos los 28 se los quitamos, verificamos que el dia que cayó sea habil y le restamos 1\n",
    "    dia_start\n",
    "    #Fechas fixing\n",
    "    dia_fixing = dia_start + BDay(-1) #al dia de inicio le verificamos el dia habil anterior\n",
    "    dia_fixing1.append(dia_fixing.strftime(\"%Y/%m/%d\")) #Rellenamos y convertimos en string\n",
    "    #Tau\n",
    "    tau = (dia_final - dia_start)/fraction_360 #Auxiliar que itera las i taus\n",
    "    tau1.append(tau) #Rellenamos\n",
    "    #Conversion a string para el DF\n",
    "    dia_final1.append(dia_final.strftime(\"%Y/%m/%d\")) #Rellenamos y convertimos en string\n",
    "    dia_start1.append(dia_start.strftime(\"%Y/%m/%d\")) #Rellenamos y convertimos en string\n"
   ]
  },
  {
   "cell_type": "code",
   "execution_count": 24,
   "metadata": {
    "scrolled": false
   },
   "outputs": [
    {
     "data": {
      "text/plain": [
       "0.999826681688021"
      ]
     },
     "execution_count": 24,
     "metadata": {},
     "output_type": "execute_result"
    }
   ],
   "source": [
    "#Primer factor de descuento P(0,1d)\n",
    "P_0 = np.exp(-t_tasas.loc[0][1]*(tau_0))\n",
    "P_0"
   ]
  },
  {
   "cell_type": "code",
   "execution_count": 26,
   "metadata": {
    "scrolled": true
   },
   "outputs": [
    {
     "data": {
      "text/plain": [
       "0.0731968161376354"
      ]
     },
     "execution_count": 26,
     "metadata": {},
     "output_type": "execute_result"
    }
   ],
   "source": [
    "#Segundo factor de descuento P(0,29d)\n",
    "P_1 = P_0/(1+t_tasas.loc[1][1])*tau1[1]\n",
    "P_1"
   ]
  },
  {
   "cell_type": "code",
   "execution_count": 27,
   "metadata": {},
   "outputs": [],
   "source": [
    "interpolados = pd.Series([np.nan for i in range(1,391)]) #Asignamos los valores que nos dan de las tasas al inicio\n",
    "interpolados[0] = t_tasas.loc[0][1]\n",
    "interpolados[2] = t_tasas.loc[1][1]\n",
    "interpolados[5] = t_tasas.loc[2][1]\n",
    "interpolados[8] = t_tasas.loc[3][1]\n",
    "interpolados[12] = t_tasas.loc[4][1]\n",
    "interpolados[25] = t_tasas.loc[5][1]\n",
    "interpolados[38] = t_tasas.loc[6][1]\n",
    "interpolados[51] = t_tasas.loc[7][1]\n",
    "interpolados[64] = t_tasas.loc[8][1]\n",
    "interpolados[90] = t_tasas.loc[9][1]\n",
    "interpolados[129] = t_tasas.loc[10][1]\n",
    "interpolados[194] = t_tasas.loc[11][1]\n",
    "interpolados[259] = t_tasas.loc[12][1]\n",
    "interpolados[389] = t_tasas.loc[13][1]\n",
    "#interpolados"
   ]
  },
  {
   "cell_type": "code",
   "execution_count": 28,
   "metadata": {},
   "outputs": [],
   "source": [
    "interpolados = interpolados.interpolate(method = \"linear\") #Interpolacion lineal de las tasas \n"
   ]
  },
  {
   "cell_type": "code",
   "execution_count": 29,
   "metadata": {
    "scrolled": true
   },
   "outputs": [],
   "source": [
    "interpolados1 = [np.nan for i in range(1,391)] #Lista de dimension 390 con na's\n",
    "interpolados1 = list(interpolados) #rellenamos la lista anterior con los valores interpolados previamente\n"
   ]
  },
  {
   "cell_type": "code",
   "execution_count": 32,
   "metadata": {},
   "outputs": [],
   "source": [
    "factores_descuentos = [1 for i in range(0,390)] #Lista de dim 390 con valores 1\n",
    "factores_descuentos[0] = P_1 #Accedemos posicion 0 y asignamos el descuento P (0,29d)\n",
    "factores_descuentos[1] = (1 - interpolados[1]*np.dot(tau1[0],factores_descuentos[0]))/(1+tau1[1]*interpolados[1]) #Caso base\n",
    "#factores_descuentos[0:2]#bien\n",
    "#tau1[0:2]#bien\n",
    "#interpolados1[0:2]#bien"
   ]
  },
  {
   "cell_type": "code",
   "execution_count": 33,
   "metadata": {},
   "outputs": [],
   "source": [
    "factores_descuentos1 = [] #Lista vacía\n",
    "for i in range(0,390): #Ciclo for para llenar la lista vacía de los factores de descuentos\n",
    "    factores_descuentos_aux = (1 - interpolados1[i]*np.dot(tau1[0:i],factores_descuentos[0:i]))/(1+tau1[i]*interpolados1[i])#Auxiliar\n",
    "    factores_descuentos1.append(factores_descuentos_aux)#llenado"
   ]
  },
  {
   "cell_type": "code",
   "execution_count": 36,
   "metadata": {},
   "outputs": [],
   "source": [
    "factores_descuentos1[0] = factores_descuentos[0] #Asignamos\n",
    "#factores_descuentos1"
   ]
  },
  {
   "cell_type": "code",
   "execution_count": 35,
   "metadata": {},
   "outputs": [
    {
     "data": {
      "text/html": [
       "<div>\n",
       "<style scoped>\n",
       "    .dataframe tbody tr th:only-of-type {\n",
       "        vertical-align: middle;\n",
       "    }\n",
       "\n",
       "    .dataframe tbody tr th {\n",
       "        vertical-align: top;\n",
       "    }\n",
       "\n",
       "    .dataframe thead th {\n",
       "        text-align: right;\n",
       "    }\n",
       "</style>\n",
       "<table border=\"1\" class=\"dataframe\">\n",
       "  <thead>\n",
       "    <tr style=\"text-align: right;\">\n",
       "      <th></th>\n",
       "      <th>Id_Cupón</th>\n",
       "      <th>Fixing_Day</th>\n",
       "      <th>Start_Day</th>\n",
       "      <th>Final_Day</th>\n",
       "      <th>Fecha_pago</th>\n",
       "      <th>Tau</th>\n",
       "      <th>Interpolados</th>\n",
       "      <th>Factores_Descuentos</th>\n",
       "    </tr>\n",
       "  </thead>\n",
       "  <tbody>\n",
       "    <tr>\n",
       "      <th>0</th>\n",
       "      <td>1</td>\n",
       "      <td>2022/03/25</td>\n",
       "      <td>2022/03/28</td>\n",
       "      <td>2022/04/25</td>\n",
       "      <td>2022/04/25</td>\n",
       "      <td>0.077778</td>\n",
       "      <td>0.062400</td>\n",
       "      <td>0.073197</td>\n",
       "    </tr>\n",
       "    <tr>\n",
       "      <th>1</th>\n",
       "      <td>2</td>\n",
       "      <td>2022/04/22</td>\n",
       "      <td>2022/04/25</td>\n",
       "      <td>2022/05/23</td>\n",
       "      <td>2022/05/23</td>\n",
       "      <td>0.077778</td>\n",
       "      <td>0.062400</td>\n",
       "      <td>0.994817</td>\n",
       "    </tr>\n",
       "    <tr>\n",
       "      <th>2</th>\n",
       "      <td>3</td>\n",
       "      <td>2022/05/20</td>\n",
       "      <td>2022/05/23</td>\n",
       "      <td>2022/06/20</td>\n",
       "      <td>2022/06/20</td>\n",
       "      <td>0.077778</td>\n",
       "      <td>0.062400</td>\n",
       "      <td>0.990012</td>\n",
       "    </tr>\n",
       "    <tr>\n",
       "      <th>3</th>\n",
       "      <td>4</td>\n",
       "      <td>2022/06/17</td>\n",
       "      <td>2022/06/20</td>\n",
       "      <td>2022/07/18</td>\n",
       "      <td>2022/07/18</td>\n",
       "      <td>0.077778</td>\n",
       "      <td>0.063783</td>\n",
       "      <td>0.984855</td>\n",
       "    </tr>\n",
       "    <tr>\n",
       "      <th>4</th>\n",
       "      <td>5</td>\n",
       "      <td>2022/07/15</td>\n",
       "      <td>2022/07/18</td>\n",
       "      <td>2022/08/15</td>\n",
       "      <td>2022/08/15</td>\n",
       "      <td>0.077778</td>\n",
       "      <td>0.065167</td>\n",
       "      <td>0.979485</td>\n",
       "    </tr>\n",
       "    <tr>\n",
       "      <th>...</th>\n",
       "      <td>...</td>\n",
       "      <td>...</td>\n",
       "      <td>...</td>\n",
       "      <td>...</td>\n",
       "      <td>...</td>\n",
       "      <td>...</td>\n",
       "      <td>...</td>\n",
       "      <td>...</td>\n",
       "    </tr>\n",
       "    <tr>\n",
       "      <th>385</th>\n",
       "      <td>386</td>\n",
       "      <td>2051/09/29</td>\n",
       "      <td>2051/10/02</td>\n",
       "      <td>2051/10/30</td>\n",
       "      <td>2051/10/30</td>\n",
       "      <td>0.077778</td>\n",
       "      <td>0.089651</td>\n",
       "      <td>-1.666424</td>\n",
       "    </tr>\n",
       "    <tr>\n",
       "      <th>386</th>\n",
       "      <td>387</td>\n",
       "      <td>2051/10/27</td>\n",
       "      <td>2051/10/30</td>\n",
       "      <td>2051/11/27</td>\n",
       "      <td>2051/11/27</td>\n",
       "      <td>0.077778</td>\n",
       "      <td>0.089663</td>\n",
       "      <td>-1.673713</td>\n",
       "    </tr>\n",
       "    <tr>\n",
       "      <th>387</th>\n",
       "      <td>388</td>\n",
       "      <td>2051/11/24</td>\n",
       "      <td>2051/11/27</td>\n",
       "      <td>2051/12/25</td>\n",
       "      <td>2051/12/25</td>\n",
       "      <td>0.077778</td>\n",
       "      <td>0.089675</td>\n",
       "      <td>-1.681004</td>\n",
       "    </tr>\n",
       "    <tr>\n",
       "      <th>388</th>\n",
       "      <td>389</td>\n",
       "      <td>2051/12/22</td>\n",
       "      <td>2051/12/25</td>\n",
       "      <td>2052/01/22</td>\n",
       "      <td>2052/01/22</td>\n",
       "      <td>0.077778</td>\n",
       "      <td>0.089688</td>\n",
       "      <td>-1.688297</td>\n",
       "    </tr>\n",
       "    <tr>\n",
       "      <th>389</th>\n",
       "      <td>390</td>\n",
       "      <td>2052/01/19</td>\n",
       "      <td>2052/01/22</td>\n",
       "      <td>2052/02/19</td>\n",
       "      <td>2052/02/19</td>\n",
       "      <td>0.077778</td>\n",
       "      <td>0.089700</td>\n",
       "      <td>-1.695592</td>\n",
       "    </tr>\n",
       "  </tbody>\n",
       "</table>\n",
       "<p>390 rows × 8 columns</p>\n",
       "</div>"
      ],
      "text/plain": [
       "     Id_Cupón  Fixing_Day   Start_Day   Final_Day  Fecha_pago       Tau  \\\n",
       "0           1  2022/03/25  2022/03/28  2022/04/25  2022/04/25  0.077778   \n",
       "1           2  2022/04/22  2022/04/25  2022/05/23  2022/05/23  0.077778   \n",
       "2           3  2022/05/20  2022/05/23  2022/06/20  2022/06/20  0.077778   \n",
       "3           4  2022/06/17  2022/06/20  2022/07/18  2022/07/18  0.077778   \n",
       "4           5  2022/07/15  2022/07/18  2022/08/15  2022/08/15  0.077778   \n",
       "..        ...         ...         ...         ...         ...       ...   \n",
       "385       386  2051/09/29  2051/10/02  2051/10/30  2051/10/30  0.077778   \n",
       "386       387  2051/10/27  2051/10/30  2051/11/27  2051/11/27  0.077778   \n",
       "387       388  2051/11/24  2051/11/27  2051/12/25  2051/12/25  0.077778   \n",
       "388       389  2051/12/22  2051/12/25  2052/01/22  2052/01/22  0.077778   \n",
       "389       390  2052/01/19  2052/01/22  2052/02/19  2052/02/19  0.077778   \n",
       "\n",
       "     Interpolados  Factores_Descuentos  \n",
       "0        0.062400             0.073197  \n",
       "1        0.062400             0.994817  \n",
       "2        0.062400             0.990012  \n",
       "3        0.063783             0.984855  \n",
       "4        0.065167             0.979485  \n",
       "..            ...                  ...  \n",
       "385      0.089651            -1.666424  \n",
       "386      0.089663            -1.673713  \n",
       "387      0.089675            -1.681004  \n",
       "388      0.089688            -1.688297  \n",
       "389      0.089700            -1.695592  \n",
       "\n",
       "[390 rows x 8 columns]"
      ]
     },
     "execution_count": 35,
     "metadata": {},
     "output_type": "execute_result"
    }
   ],
   "source": [
    "#Creamos el data frame con todos los datos \n",
    "df = pd.DataFrame(list(zip(id_cupon1,dia_fixing1,dia_start1,dia_final1,dia_final1,tau1,interpolados,factores_descuentos1)), columns = [\"Id_Cupón\", \"Fixing_Day\", \"Start_Day\", \"Final_Day\",\"Fecha_pago\",\"Tau\",\"Interpolados\",\"Factores_Descuentos\"])\n",
    "df"
   ]
  },
  {
   "cell_type": "code",
   "execution_count": null,
   "metadata": {},
   "outputs": [],
   "source": [
    "#Hace lo mismo que arriba pero en otro formato\n",
    "#caso_base = {\"Id_Cupón\": id_cupon1,\"Día_spot\":dia_start1, \"Día_fixing\" :dia_fixing1, \"Día_final\":dia_final1}\n",
    "#df_caso_base = pd.DataFrame(caso_base)\n",
    "#print(\"Data Frame\")\n",
    "#print(df_caso_base"
   ]
  }
 ],
 "metadata": {
  "kernelspec": {
   "display_name": "Python 3",
   "language": "python",
   "name": "python3"
  },
  "language_info": {
   "codemirror_mode": {
    "name": "ipython",
    "version": 3
   },
   "file_extension": ".py",
   "mimetype": "text/x-python",
   "name": "python",
   "nbconvert_exporter": "python",
   "pygments_lexer": "ipython3",
   "version": "3.8.3"
  }
 },
 "nbformat": 4,
 "nbformat_minor": 5
}
